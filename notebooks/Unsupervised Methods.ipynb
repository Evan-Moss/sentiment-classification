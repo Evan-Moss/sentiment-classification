{
 "cells": [
  {
   "cell_type": "markdown",
   "id": "solved-curve",
   "metadata": {},
   "source": [
    "# Unsupervised Methods"
   ]
  },
  {
   "cell_type": "code",
   "execution_count": 1,
   "id": "through-medicaid",
   "metadata": {},
   "outputs": [],
   "source": [
    "import numpy as np\n",
    "import pandas as pd\n",
    "from gensim.models import Word2Vec\n",
    "import multiprocessing\n",
    "from sklearn.cluster import KMeans\n",
    "from scipy.sparse import dok_matrix\n"
   ]
  },
  {
   "cell_type": "markdown",
   "id": "convertible-controversy",
   "metadata": {},
   "source": [
    "## Trying to use Word2Vec\n",
    "\n",
    "Confused on this for now, there is a \"manual\" method below."
   ]
  },
  {
   "cell_type": "code",
   "execution_count": 47,
   "id": "brutal-gilbert",
   "metadata": {},
   "outputs": [],
   "source": [
    "cores = multiprocessing.cpu_count()"
   ]
  },
  {
   "cell_type": "code",
   "execution_count": 48,
   "id": "optical-paintball",
   "metadata": {},
   "outputs": [],
   "source": [
    "w2v_model = Word2Vec(min_count=20,\n",
    "                     window=2,\n",
    "                     size=1000,\n",
    "                     sample=6e-5, \n",
    "                     alpha=0.03, \n",
    "                     min_alpha=0.0007, \n",
    "                     negative=20,\n",
    "                     workers=cores-1)"
   ]
  },
  {
   "cell_type": "code",
   "execution_count": 3,
   "id": "public-slave",
   "metadata": {},
   "outputs": [
    {
     "data": {
      "text/html": [
       "<div>\n",
       "<style scoped>\n",
       "    .dataframe tbody tr th:only-of-type {\n",
       "        vertical-align: middle;\n",
       "    }\n",
       "\n",
       "    .dataframe tbody tr th {\n",
       "        vertical-align: top;\n",
       "    }\n",
       "\n",
       "    .dataframe thead th {\n",
       "        text-align: right;\n",
       "    }\n",
       "</style>\n",
       "<table border=\"1\" class=\"dataframe\">\n",
       "  <thead>\n",
       "    <tr style=\"text-align: right;\">\n",
       "      <th></th>\n",
       "      <th>phrase_id</th>\n",
       "      <th>phrase_tokens</th>\n",
       "      <th>sentiment_value</th>\n",
       "      <th>sentiment</th>\n",
       "    </tr>\n",
       "  </thead>\n",
       "  <tbody>\n",
       "    <tr>\n",
       "      <th>0</th>\n",
       "      <td>3</td>\n",
       "      <td>['cockettes']</td>\n",
       "      <td>0.50000</td>\n",
       "      <td>neutral</td>\n",
       "    </tr>\n",
       "    <tr>\n",
       "      <th>1</th>\n",
       "      <td>4</td>\n",
       "      <td>['cockettes']</td>\n",
       "      <td>0.42708</td>\n",
       "      <td>neutral</td>\n",
       "    </tr>\n",
       "    <tr>\n",
       "      <th>2</th>\n",
       "      <td>5</td>\n",
       "      <td>['cockettes', 'provide', 'window', 'subculture...</td>\n",
       "      <td>0.37500</td>\n",
       "      <td>negative</td>\n",
       "    </tr>\n",
       "    <tr>\n",
       "      <th>3</th>\n",
       "      <td>6</td>\n",
       "      <td>['cockettes', 'provide', 'window', 'subculture...</td>\n",
       "      <td>0.41667</td>\n",
       "      <td>neutral</td>\n",
       "    </tr>\n",
       "    <tr>\n",
       "      <th>4</th>\n",
       "      <td>7</td>\n",
       "      <td>['cockettes', 'provide', 'window', 'subculture...</td>\n",
       "      <td>0.54167</td>\n",
       "      <td>neutral</td>\n",
       "    </tr>\n",
       "  </tbody>\n",
       "</table>\n",
       "</div>"
      ],
      "text/plain": [
       "   phrase_id                                      phrase_tokens  \\\n",
       "0          3                                      ['cockettes']   \n",
       "1          4                                      ['cockettes']   \n",
       "2          5  ['cockettes', 'provide', 'window', 'subculture...   \n",
       "3          6  ['cockettes', 'provide', 'window', 'subculture...   \n",
       "4          7  ['cockettes', 'provide', 'window', 'subculture...   \n",
       "\n",
       "   sentiment_value sentiment  \n",
       "0          0.50000   neutral  \n",
       "1          0.42708   neutral  \n",
       "2          0.37500  negative  \n",
       "3          0.41667   neutral  \n",
       "4          0.54167   neutral  "
      ]
     },
     "execution_count": 3,
     "metadata": {},
     "output_type": "execute_result"
    }
   ],
   "source": [
    "data = pd.read_csv('../data/labelled_phrases.csv')\n",
    "data.head()"
   ]
  },
  {
   "cell_type": "code",
   "execution_count": 50,
   "id": "adolescent-quick",
   "metadata": {},
   "outputs": [],
   "source": [
    "data['phrase_lists'] = data['phrase_tokens'].apply(lambda x: x.split())"
   ]
  },
  {
   "cell_type": "code",
   "execution_count": 51,
   "id": "viral-banking",
   "metadata": {},
   "outputs": [],
   "source": [
    "w2v_model.build_vocab(data['phrase_lists'], progress_per=10000)"
   ]
  },
  {
   "cell_type": "code",
   "execution_count": 52,
   "id": "tropical-tamil",
   "metadata": {},
   "outputs": [
    {
     "data": {
      "text/plain": [
       "(2807409, 5149095)"
      ]
     },
     "execution_count": 52,
     "metadata": {},
     "output_type": "execute_result"
    }
   ],
   "source": [
    "w2v_model.train(data['phrase_lists'], total_examples=w2v_model.corpus_count, epochs=w2v_model.epochs)"
   ]
  },
  {
   "cell_type": "code",
   "execution_count": 53,
   "id": "chief-divorce",
   "metadata": {},
   "outputs": [],
   "source": [
    "wordvecs = w2v_model.wv"
   ]
  },
  {
   "cell_type": "code",
   "execution_count": 54,
   "id": "engaged-omaha",
   "metadata": {},
   "outputs": [],
   "source": [
    "kmeans = KMeans(n_clusters=2, random_state=0).fit(wordvecs.vectors)"
   ]
  },
  {
   "cell_type": "code",
   "execution_count": 55,
   "id": "encouraging-breeding",
   "metadata": {},
   "outputs": [
    {
     "data": {
      "text/plain": [
       "[(\"['pay']\", 0.14025120437145233),\n",
       " (\"['find']\", 0.13390228152275085),\n",
       " (\"['enjoy']\", 0.13276638090610504),\n",
       " (\"['sequel']\", 0.1322898268699646),\n",
       " (\"['u']\", 0.12780815362930298),\n",
       " (\"['plot']\", 0.12619267404079437),\n",
       " (\"['compelling']\", 0.12338240444660187),\n",
       " (\"['audience']\", 0.12305498868227005),\n",
       " (\"['likely']\", 0.12161680310964584),\n",
       " (\"['mark']\", 0.12137159705162048),\n",
       " (\"['sort']\", 0.12096580117940903),\n",
       " (\"['great']\", 0.12036927789449692),\n",
       " (\"['man']\", 0.11720839142799377),\n",
       " (\"['need']\", 0.11563523858785629),\n",
       " (\"['script']\", 0.1155271828174591),\n",
       " (\"['original']\", 0.11514805257320404),\n",
       " (\"['part']\", 0.11510933935642242),\n",
       " (\"['moment']\", 0.11435109376907349),\n",
       " (\"['release']\", 0.11370164155960083),\n",
       " (\"['grow']\", 0.11044472455978394)]"
      ]
     },
     "execution_count": 55,
     "metadata": {},
     "output_type": "execute_result"
    }
   ],
   "source": [
    "wordvecs.similar_by_vector(kmeans.cluster_centers_[1], topn=20)"
   ]
  },
  {
   "cell_type": "code",
   "execution_count": 5,
   "id": "answering-analysis",
   "metadata": {},
   "outputs": [],
   "source": [
    "vocab = list(set(data['phrase_tokens'].str.cat(sep=' ').split()))\n",
    "word2id = {vocab[x] :x for x in range(len(vocab))}"
   ]
  },
  {
   "cell_type": "code",
   "execution_count": 57,
   "id": "arbitrary-physics",
   "metadata": {},
   "outputs": [
    {
     "data": {
      "text/plain": [
       "array([0, 0, 0, ..., 0, 0, 0], dtype=int32)"
      ]
     },
     "execution_count": 57,
     "metadata": {},
     "output_type": "execute_result"
    }
   ],
   "source": [
    "kmeans.labels_"
   ]
  },
  {
   "cell_type": "markdown",
   "id": "confused-bradley",
   "metadata": {},
   "source": [
    "## Manual Method not using Word2Vec"
   ]
  },
  {
   "cell_type": "code",
   "execution_count": 6,
   "id": "talented-namibia",
   "metadata": {},
   "outputs": [],
   "source": [
    "def convert_to_matrix(data, word2id):\n",
    "    mat_size = len(data),len(word2id)+1\n",
    "    oov_index = len(word2id)\n",
    "    \n",
    "    X = dok_matrix(mat_size)\n",
    "    \n",
    "    for doc_id, doc in enumerate(list(data['phrase_tokens'])):\n",
    "        for word in doc.split():\n",
    "            X[doc_id,word2id.get(word, oov_index)] += 1\n",
    "    \n",
    "    return X\n",
    "\n",
    "X = convert_to_matrix(data, word2id)"
   ]
  },
  {
   "cell_type": "code",
   "execution_count": 59,
   "id": "religious-lithuania",
   "metadata": {},
   "outputs": [],
   "source": [
    "k = KMeans(n_clusters=2)"
   ]
  },
  {
   "cell_type": "code",
   "execution_count": 60,
   "id": "expanded-sacramento",
   "metadata": {},
   "outputs": [
    {
     "data": {
      "text/plain": [
       "KMeans(n_clusters=2)"
      ]
     },
     "execution_count": 60,
     "metadata": {},
     "output_type": "execute_result"
    }
   ],
   "source": [
    "k.fit(X)"
   ]
  },
  {
   "cell_type": "code",
   "execution_count": 61,
   "id": "classified-actor",
   "metadata": {},
   "outputs": [
    {
     "name": "stdout",
     "output_type": "stream",
     "text": [
      "'one']\n",
      "'even',\n",
      "'would',\n",
      "'film']\n",
      "['not',\n",
      "'enough',\n",
      "'idea',\n",
      "'character',\n",
      "'time',\n",
      "'movie']\n",
      "'one',\n",
      "'time']\n",
      "'bad',\n",
      "'make',\n",
      "'feel',\n",
      "'not',\n",
      "'n',\n",
      "'film',\n",
      "'movie',\n",
      "'good',\n"
     ]
    }
   ],
   "source": [
    "for x in np.argsort(k.cluster_centers_[1])[-20:]:\n",
    "    print(vocab[x])"
   ]
  },
  {
   "cell_type": "code",
   "execution_count": 62,
   "id": "miniature-equation",
   "metadata": {},
   "outputs": [
    {
     "name": "stdout",
     "output_type": "stream",
     "text": [
      "['make',\n",
      "'no',\n",
      "['n',\n",
      "['not',\n",
      "'even',\n",
      "'much',\n",
      "'time',\n",
      "['film',\n",
      "'well',\n",
      "'story',\n",
      "'character',\n",
      "'one',\n",
      "'film']\n",
      "'movie']\n",
      "'not',\n",
      "'like',\n",
      "'make',\n",
      "'n',\n",
      "'film',\n",
      "'movie',\n"
     ]
    }
   ],
   "source": [
    "for x in np.argsort(k.cluster_centers_[0])[-20:]:\n",
    "    print(vocab[x])"
   ]
  },
  {
   "cell_type": "code",
   "execution_count": 63,
   "id": "becoming-sport",
   "metadata": {},
   "outputs": [],
   "source": [
    "sentiment_simple = data['sentiment_value'] < 0.5"
   ]
  },
  {
   "cell_type": "code",
   "execution_count": 64,
   "id": "falling-launch",
   "metadata": {},
   "outputs": [],
   "source": [
    "sentiment_simple = sentiment_simple.astype(int)"
   ]
  },
  {
   "cell_type": "code",
   "execution_count": 65,
   "id": "cutting-sessions",
   "metadata": {},
   "outputs": [
    {
     "data": {
      "text/plain": [
       "(array([0, 1]), array([149846,  87598]))"
      ]
     },
     "execution_count": 65,
     "metadata": {},
     "output_type": "execute_result"
    }
   ],
   "source": [
    "np.unique(sentiment_simple, return_counts=True)"
   ]
  },
  {
   "cell_type": "code",
   "execution_count": 66,
   "id": "excessive-reverse",
   "metadata": {},
   "outputs": [
    {
     "data": {
      "text/plain": [
       "(array([0, 1], dtype=int32), array([234636,   2808]))"
      ]
     },
     "execution_count": 66,
     "metadata": {},
     "output_type": "execute_result"
    }
   ],
   "source": [
    "np.unique(k.labels_, return_counts=True)"
   ]
  },
  {
   "cell_type": "code",
   "execution_count": 67,
   "id": "understanding-mounting",
   "metadata": {},
   "outputs": [],
   "source": [
    "scores = np.unique(k.labels_ == sentiment_simple, return_counts=True)"
   ]
  },
  {
   "cell_type": "code",
   "execution_count": 68,
   "id": "severe-shuttle",
   "metadata": {},
   "outputs": [],
   "source": [
    "from sklearn.metrics import confusion_matrix, ConfusionMatrixDisplay, f1_score"
   ]
  },
  {
   "cell_type": "code",
   "execution_count": 69,
   "id": "fewer-rings",
   "metadata": {},
   "outputs": [
    {
     "data": {
      "text/plain": [
       "<sklearn.metrics._plot.confusion_matrix.ConfusionMatrixDisplay at 0x7f89d9f07190>"
      ]
     },
     "execution_count": 69,
     "metadata": {},
     "output_type": "execute_result"
    },
    {
     "data": {
      "image/png": "[encoded data removed]",
      "text/plain": [
       "<Figure size 432x288 with 2 Axes>"
      ]
     },
     "metadata": {
      "needs_background": "light"
     },
     "output_type": "display_data"
    }
   ],
   "source": [
    "y_true = sentiment_simple\n",
    "y_preds = k.labels_\n",
    "cm = confusion_matrix(y_true, y_preds, labels=[1, 0])\n",
    "disp = ConfusionMatrixDisplay(cm, display_labels=['Pos', 'Neg'])\n",
    "disp.plot()"
   ]
  },
  {
   "cell_type": "code",
   "execution_count": 70,
   "id": "danish-ordinance",
   "metadata": {},
   "outputs": [
    {
     "data": {
      "text/plain": [
       "0.6281818028672024"
      ]
     },
     "execution_count": 70,
     "metadata": {},
     "output_type": "execute_result"
    }
   ],
   "source": [
    "scores[1][1] / sum(scores[1])"
   ]
  },
  {
   "cell_type": "code",
   "execution_count": 71,
   "id": "rational-onion",
   "metadata": {},
   "outputs": [
    {
     "data": {
      "text/plain": [
       "0.494819957633275"
      ]
     },
     "execution_count": 71,
     "metadata": {},
     "output_type": "execute_result"
    }
   ],
   "source": [
    "f1_score(y_true, y_preds, average='weighted')"
   ]
  },
  {
   "cell_type": "markdown",
   "id": "competent-patrol",
   "metadata": {},
   "source": [
    "## Setup"
   ]
  },
  {
   "cell_type": "code",
   "execution_count": 1,
   "id": "nearby-comfort",
   "metadata": {},
   "outputs": [],
   "source": [
    "# Put some stuff here to reduce the clutter\n",
    "import numpy as np\n",
    "import pandas as pd\n",
    "from scipy.sparse import dok_matrix\n",
    "\n",
    "data = pd.read_csv('../data/labelled_phrases.csv')\n",
    "data['phrase_lists'] = data['phrase_tokens'].apply(lambda x: x.split())\n",
    "vocab = list(set(data['phrase_tokens'].str.cat(sep=' ').split()))\n",
    "word2id = {vocab[x] :x for x in range(len(vocab))}"
   ]
  },
  {
   "cell_type": "code",
   "execution_count": 2,
   "id": "similar-statistics",
   "metadata": {},
   "outputs": [],
   "source": [
    "def convert_to_matrix(data, word2id):\n",
    "    mat_size = len(data),len(word2id)+1\n",
    "    oov_index = len(word2id)\n",
    "    \n",
    "    X = dok_matrix(mat_size)\n",
    "    \n",
    "    for doc_id, doc in enumerate(list(data['phrase_tokens'])):\n",
    "        for word in doc.split():\n",
    "            X[doc_id,word2id.get(word, oov_index)] += 1\n",
    "    \n",
    "    return X\n",
    "\n",
    "X = convert_to_matrix(data, word2id)"
   ]
  },
  {
   "cell_type": "code",
   "execution_count": 3,
   "id": "known-figure",
   "metadata": {},
   "outputs": [
    {
     "data": {
      "text/plain": [
       "(array([0, 1]), array([149846,  87598]))"
      ]
     },
     "execution_count": 3,
     "metadata": {},
     "output_type": "execute_result"
    }
   ],
   "source": [
    "from sklearn.metrics import confusion_matrix, ConfusionMatrixDisplay, f1_score\n",
    "\n",
    "sentiment_simple = data['sentiment_value'] < 0.5\n",
    "sentiment_simple = sentiment_simple.astype(int)\n",
    "y_true = sentiment_simple\n",
    "np.unique(sentiment_simple, return_counts=True)"
   ]
  },
  {
   "cell_type": "markdown",
   "id": "angry-charm",
   "metadata": {},
   "source": [
    "## Spectral Clustering"
   ]
  },
  {
   "cell_type": "code",
   "execution_count": null,
   "id": "listed-asset",
   "metadata": {},
   "outputs": [
    {
     "name": "stderr",
     "output_type": "stream",
     "text": [
      "/home/db/miniconda3/envs/dme/lib/python3.7/site-packages/sklearn/manifold/_spectral_embedding.py:236: UserWarning: Graph is not fully connected, spectral embedding may not work as expected.\n",
      "  warnings.warn(\"Graph is not fully connected, spectral embedding\"\n"
     ]
    }
   ],
   "source": [
    "from sklearn.cluster import SpectralClustering\n",
    "\n",
    "# Takes very long\n",
    "spectral_clustering = SpectralClustering(n_clusters=2, affinity='nearest_neighbors').fit(X)"
   ]
  },
  {
   "cell_type": "code",
   "execution_count": null,
   "id": "alternate-wright",
   "metadata": {},
   "outputs": [],
   "source": [
    "np.unique(spectral_clustering.labels_, return_counts=True)"
   ]
  },
  {
   "cell_type": "code",
   "execution_count": null,
   "id": "variable-cleaners",
   "metadata": {},
   "outputs": [],
   "source": [
    "spectral_scores = np.unique(spectral_clustering.labels_ == sentiment_simple, return_counts=True)\n",
    "\n",
    "y_preds = spectral_clustering.labels_\n",
    "cm = confusion_matrix(y_true, y_preds, labels=[1, 0])\n",
    "disp = ConfusionMatrixDisplay(cm, display_labels=['Pos', 'Neg'])\n",
    "disp.plot()"
   ]
  },
  {
   "cell_type": "code",
   "execution_count": null,
   "id": "scientific-living",
   "metadata": {},
   "outputs": [],
   "source": [
    "spectral_scores[1][1] / sum(spectral_scores[1])"
   ]
  },
  {
   "cell_type": "code",
   "execution_count": null,
   "id": "pleasant-upper",
   "metadata": {},
   "outputs": [],
   "source": [
    "f1_score(y_true, y_preds, average='weighted')"
   ]
  },
  {
   "cell_type": "markdown",
   "id": "together-butler",
   "metadata": {},
   "source": [
    "## Birch Clustering"
   ]
  },
  {
   "cell_type": "code",
   "execution_count": null,
   "id": "dirty-witch",
   "metadata": {},
   "outputs": [],
   "source": [
    "from sklearn.mixture import Birch\n",
    "\n",
    "birch = Birch(n_cluster=2).fit(X)"
   ]
  },
  {
   "cell_type": "code",
   "execution_count": null,
   "id": "modified-complement",
   "metadata": {},
   "outputs": [],
   "source": [
    "np.unique(birch.labels_, return_counts=True)"
   ]
  },
  {
   "cell_type": "code",
   "execution_count": null,
   "id": "fabulous-indiana",
   "metadata": {},
   "outputs": [],
   "source": [
    "birch_scores = np.unique(birch.labels_ == sentiment_simple, return_counts=True)\n",
    "\n",
    "y_preds = birch.labels_\n",
    "cm = confusion_matrix(y_true, y_preds, labels=[1, 0])\n",
    "disp = ConfusionMatrixDisplay(cm, display_labels=['Pos', 'Neg'])\n",
    "disp.plot()"
   ]
  },
  {
   "cell_type": "code",
   "execution_count": null,
   "id": "flying-atmosphere",
   "metadata": {},
   "outputs": [],
   "source": [
    "birch_scores[1][1] / sum(birch_scores[1])"
   ]
  },
  {
   "cell_type": "code",
   "execution_count": 5,
   "id": "precious-luxembourg",
   "metadata": {},
   "outputs": [
    {
     "ename": "NameError",
     "evalue": "name 'y_preds' is not defined",
     "output_type": "error",
     "traceback": [
      "\u001b[0;31m---------------------------------------------------------------------------\u001b[0m",
      "\u001b[0;31mNameError\u001b[0m                                 Traceback (most recent call last)",
      "\u001b[0;32m<ipython-input-5-a89d6c415ec6>\u001b[0m in \u001b[0;36m<module>\u001b[0;34m()\u001b[0m\n\u001b[0;32m----> 1\u001b[0;31m \u001b[0mf1_score\u001b[0m\u001b[0;34m(\u001b[0m\u001b[0my_true\u001b[0m\u001b[0;34m,\u001b[0m \u001b[0my_preds\u001b[0m\u001b[0;34m,\u001b[0m \u001b[0maverage\u001b[0m\u001b[0;34m=\u001b[0m\u001b[0;34m'weighted'\u001b[0m\u001b[0;34m)\u001b[0m\u001b[0;34m\u001b[0m\u001b[0;34m\u001b[0m\u001b[0m\n\u001b[0m",
      "\u001b[0;31mNameError\u001b[0m: name 'y_preds' is not defined"
     ]
    }
   ],
   "source": [
    "f1_score(y_true, y_preds, average='weighted')"
   ]
  }
 ],
 "metadata": {
  "kernelspec": {
   "display_name": "Python 3",
   "language": "python",
   "name": "python3"
  },
  "language_info": {
   "codemirror_mode": {
    "name": "ipython",
    "version": 3
   },
   "file_extension": ".py",
   "mimetype": "text/x-python",
   "name": "python",
   "nbconvert_exporter": "python",
   "pygments_lexer": "ipython3",
   "version": "3.7.9"
  }
 },
 "nbformat": 4,
 "nbformat_minor": 5
}
