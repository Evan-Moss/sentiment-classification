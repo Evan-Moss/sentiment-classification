{
 "cells": [
  {
   "cell_type": "markdown",
   "metadata": {},
   "source": [
    "# Pre-processing\n",
    "Notebook to explore the pre-processing of the data."
   ]
  },
  {
   "cell_type": "code",
   "execution_count": 32,
   "metadata": {},
   "outputs": [
    {
     "name": "stderr",
     "output_type": "stream",
     "text": [
      "[nltk_data] Downloading package stopwords to\n",
      "[nltk_data]     /Users/adelliinaa/nltk_data...\n",
      "[nltk_data]   Package stopwords is already up-to-date!\n",
      "[nltk_data] Downloading package wordnet to\n",
      "[nltk_data]     /Users/adelliinaa/nltk_data...\n",
      "[nltk_data]   Package wordnet is already up-to-date!\n",
      "[nltk_data] Downloading package averaged_perceptron_tagger to\n",
      "[nltk_data]     /Users/adelliinaa/nltk_data...\n",
      "[nltk_data]   Package averaged_perceptron_tagger is already up-to-\n",
      "[nltk_data]       date!\n"
     ]
    }
   ],
   "source": [
    "import pandas as pd\n",
    "import numpy as np\n",
    "from nltk.stem.porter import PorterStemmer\n",
    "from nltk.stem import WordNetLemmatizer\n",
    "from nltk import pos_tag\n",
    "from nltk.corpus import wordnet\n",
    "from sklearn import metrics\n",
    "from sklearn.metrics import roc_auc_score, roc_curve, auc, accuracy_score\n",
    "from sklearn.model_selection import train_test_split\n",
    "from sklearn.linear_model import SGDClassifier, LogisticRegression\n",
    "import nltk # To download\n",
    "import re\n",
    "from nltk.corpus import stopwords\n",
    "nltk.download('stopwords') # For stop words\n",
    "nltk.download('wordnet') # For POS \n",
    "nltk.download('averaged_perceptron_tagger') # For POS tagging\n",
    "stop_words = set(stopwords.words('english'))\n",
    "stop_words.add('')\n",
    "stop_words.remove('no')\n",
    "stop_words.remove('not')"
   ]
  },
  {
   "cell_type": "code",
   "execution_count": 33,
   "metadata": {},
   "outputs": [],
   "source": [
    "data = pd.read_csv('../data/stanfordSentimentTreebank/dictionary.txt', sep='|', index_col=1)\n",
    "train_test = pd.read_csv('../data/stanfordSentimentTreebank/sentiment_labels.txt', sep='|', index_col=0)\n",
    "\n",
    "#data.rename(columns={0: 'phrase_ids', 1: 'phrase'})\n",
    "data.columns = ['phrase_tokens']\n",
    "data.index.names = ['phrase_id']\n",
    "train_test.columns = ['sentiment_value']\n",
    "train_test.index.names = ['phrase_id']\n"
   ]
  },
  {
   "cell_type": "code",
   "execution_count": 34,
   "metadata": {},
   "outputs": [],
   "source": [
    "stemmer = PorterStemmer()\n",
    "lemmatizer = WordNetLemmatizer() \n",
    "\n",
    "def get_pos_from_tag(tag):\n",
    "    if tag.startswith('J'):\n",
    "        return wordnet.ADJ\n",
    "    elif tag.startswith('V'):\n",
    "        return wordnet.VERB\n",
    "    elif tag.startswith('N'):\n",
    "        return wordnet.NOUN\n",
    "    elif tag.startswith('R'):\n",
    "        return wordnet.ADV\n",
    "    else:\n",
    "        return wordnet.NOUN\n",
    "\n",
    "    \n",
    "def pre_processing(collection):\n",
    "    # Case-fold\n",
    "    collection = collection.lower()\n",
    "    \n",
    "    # Tokenising, converts all non-chars, new-lines and tabs to ' '\n",
    "    collection = list(filter(None, re.sub(r'[\\W]', ' ',collection).split(' ')))\n",
    "    collection = pos_tag(collection)\n",
    "    \n",
    "    # Stemming and Stopping \n",
    "    return [lemmatizer.lemmatize(term[0], pos = get_pos_from_tag(term[1])) for term in collection if term[0] not in stop_words] \n",
    "\n",
    "#pre_processing(\"This is a test sentence I love this film it's good. better than the last one, greater than the second one it was playing plays played\")\n"
   ]
  },
  {
   "cell_type": "code",
   "execution_count": 35,
   "metadata": {},
   "outputs": [],
   "source": [
    "# Apply pre_processing to data\n",
    "\n",
    "data['phrase_tokens'] = data['phrase_tokens'].apply(pre_processing)"
   ]
  },
  {
   "cell_type": "code",
   "execution_count": 36,
   "metadata": {},
   "outputs": [],
   "source": [
    "# Remove empty phrases \n",
    "\n",
    "for index, row in data.iterrows():\n",
    "    if len(row[0]) == 0:\n",
    "        data = data.drop([index], axis=0)"
   ]
  },
  {
   "cell_type": "code",
   "execution_count": 37,
   "metadata": {},
   "outputs": [],
   "source": [
    "# Inner Join on phrase_id\n",
    "\n",
    "labelled_phrases = pd.merge(data, train_test, left_index=True, right_index=True)\n",
    "labelled_phrases = labelled_phrases.sort_index(ascending=True)"
   ]
  },
  {
   "cell_type": "code",
   "execution_count": 51,
   "metadata": {},
   "outputs": [],
   "source": [
    "\n",
    "#UNCOMMENT FOR BINARY CLASIFICATION\n",
    "conditions = [\n",
    "    (labelled_phrases['sentiment_value'] >= 0) & (labelled_phrases['sentiment_value'] <= 0.55),\n",
    "    (labelled_phrases['sentiment_value'] > 0.55) & (labelled_phrases['sentiment_value'] <= 1)]\n",
    "values = ['negative', 'positive']\n",
    "labelled_phrases['sentiment'] = np.select(conditions, values)\n"
   ]
  },
  {
   "cell_type": "code",
   "execution_count": 38,
   "metadata": {},
   "outputs": [],
   "source": [
    "# create a list of our conditions\n",
    "conditions = [\n",
    "    (labelled_phrases['sentiment_value'] >= 0) & (labelled_phrases['sentiment_value'] <= 0.2),\n",
    "    (labelled_phrases['sentiment_value'] > 0.2) & (labelled_phrases['sentiment_value'] <= 0.4),\n",
    "    (labelled_phrases['sentiment_value'] > 0.4) & (labelled_phrases['sentiment_value'] <= 0.6),\n",
    "    (labelled_phrases['sentiment_value'] > 0.6) & (labelled_phrases['sentiment_value'] <= 0.8),\n",
    "    (labelled_phrases['sentiment_value'] > 0.8) & (labelled_phrases['sentiment_value'] <= 1)\n",
    "    ]\n",
    "\n",
    "# create a list of the values we want to assign for each condition\n",
    "values = ['very_negative', 'negative', 'neutral', 'positive', 'very_positive']\n",
    "\n",
    "# create a new column and use np.select to assign values to it using our lists as arguments\n",
    "labelled_phrases['sentiment'] = np.select(conditions, values)\n"
   ]
  },
  {
   "cell_type": "code",
   "execution_count": 52,
   "metadata": {},
   "outputs": [
    {
     "data": {
      "text/html": [
       "<div>\n",
       "<style scoped>\n",
       "    .dataframe tbody tr th:only-of-type {\n",
       "        vertical-align: middle;\n",
       "    }\n",
       "\n",
       "    .dataframe tbody tr th {\n",
       "        vertical-align: top;\n",
       "    }\n",
       "\n",
       "    .dataframe thead th {\n",
       "        text-align: right;\n",
       "    }\n",
       "</style>\n",
       "<table border=\"1\" class=\"dataframe\">\n",
       "  <thead>\n",
       "    <tr style=\"text-align: right;\">\n",
       "      <th></th>\n",
       "      <th>phrase_tokens</th>\n",
       "      <th>sentiment_value</th>\n",
       "      <th>sentiment</th>\n",
       "    </tr>\n",
       "    <tr>\n",
       "      <th>phrase_id</th>\n",
       "      <th></th>\n",
       "      <th></th>\n",
       "      <th></th>\n",
       "    </tr>\n",
       "  </thead>\n",
       "  <tbody>\n",
       "    <tr>\n",
       "      <th>3</th>\n",
       "      <td>[cockettes]</td>\n",
       "      <td>0.50000</td>\n",
       "      <td>negative</td>\n",
       "    </tr>\n",
       "    <tr>\n",
       "      <th>4</th>\n",
       "      <td>[cockettes]</td>\n",
       "      <td>0.42708</td>\n",
       "      <td>negative</td>\n",
       "    </tr>\n",
       "    <tr>\n",
       "      <th>5</th>\n",
       "      <td>[cockettes, provide, window, subculture, hell,...</td>\n",
       "      <td>0.37500</td>\n",
       "      <td>negative</td>\n",
       "    </tr>\n",
       "    <tr>\n",
       "      <th>6</th>\n",
       "      <td>[cockettes, provide, window, subculture, hell,...</td>\n",
       "      <td>0.41667</td>\n",
       "      <td>negative</td>\n",
       "    </tr>\n",
       "    <tr>\n",
       "      <th>7</th>\n",
       "      <td>[cockettes, provide, window, subculture, hell,...</td>\n",
       "      <td>0.54167</td>\n",
       "      <td>negative</td>\n",
       "    </tr>\n",
       "  </tbody>\n",
       "</table>\n",
       "</div>"
      ],
      "text/plain": [
       "                                               phrase_tokens  sentiment_value  \\\n",
       "phrase_id                                                                       \n",
       "3                                                [cockettes]          0.50000   \n",
       "4                                                [cockettes]          0.42708   \n",
       "5          [cockettes, provide, window, subculture, hell,...          0.37500   \n",
       "6          [cockettes, provide, window, subculture, hell,...          0.41667   \n",
       "7          [cockettes, provide, window, subculture, hell,...          0.54167   \n",
       "\n",
       "          sentiment  \n",
       "phrase_id            \n",
       "3          negative  \n",
       "4          negative  \n",
       "5          negative  \n",
       "6          negative  \n",
       "7          negative  "
      ]
     },
     "execution_count": 52,
     "metadata": {},
     "output_type": "execute_result"
    }
   ],
   "source": [
    "labelled_phrases.to_csv('labelled_phrases.csv', index=True)\n",
    "labelled_phrases.head()"
   ]
  },
  {
   "cell_type": "code",
   "execution_count": 53,
   "metadata": {},
   "outputs": [],
   "source": [
    "data = pd.read_csv('labelled_phrases.csv')\n",
    "data = data.drop(columns=['phrase_id', 'sentiment_value'])"
   ]
  },
  {
   "cell_type": "code",
   "execution_count": 54,
   "metadata": {},
   "outputs": [],
   "source": [
    "reviews = np.array(data['phrase_tokens'])\n",
    "sentiments = np.array(data['sentiment'])\n",
    "\n",
    "# build train and test datasets\n",
    "train_reviews, test_reviews, train_sentiments, test_sentiments = train_test_split(reviews, sentiments , test_size=0.20,  random_state=0)\n"
   ]
  },
  {
   "cell_type": "code",
   "execution_count": 55,
   "metadata": {},
   "outputs": [
    {
     "name": "stdout",
     "output_type": "stream",
     "text": [
      "BOW model:> Train features shape: (189955, 105660)  Test features shape: (47489, 105660)\n",
      "TFIDF model:> Train features shape: (189955, 105660)  Test features shape: (47489, 105660)\n"
     ]
    }
   ],
   "source": [
    "from sklearn.feature_extraction.text import CountVectorizer, TfidfVectorizer\n",
    "\n",
    "cv = CountVectorizer(binary=False, min_df=0.0, max_df=1.0, ngram_range=(1,2))\n",
    "cv_train_features = cv.fit_transform(train_reviews)\n",
    "\n",
    "# build TFIDF features on train reviews\n",
    "tv = TfidfVectorizer(use_idf=True, min_df=0.0, max_df=1.0, ngram_range=(1,2), sublinear_tf=True)\n",
    "tv_train_features = tv.fit_transform(train_reviews)\n",
    "\n",
    "\n",
    "# transform test reviews into features\n",
    "cv_test_features = cv.transform(test_reviews)\n",
    "tv_test_features = tv.transform(test_reviews)\n",
    "\n",
    "print('BOW model:> Train features shape:', cv_train_features.shape, ' Test features shape:', cv_test_features.shape)\n",
    "print('TFIDF model:> Train features shape:', tv_train_features.shape, ' Test features shape:', tv_test_features.shape)"
   ]
  },
  {
   "cell_type": "code",
   "execution_count": 56,
   "metadata": {},
   "outputs": [],
   "source": [
    "lr = LogisticRegression(multi_class='multinomial', solver='lbfgs')\n",
    "svm = SGDClassifier(loss='hinge', l1_ratio=0.15, max_iter=1000, n_jobs=4, random_state=101)"
   ]
  },
  {
   "cell_type": "code",
   "execution_count": 43,
   "metadata": {},
   "outputs": [],
   "source": [
    "def display_classification_report(true_labels, predicted_labels, target_names):\n",
    "\n",
    "    report = metrics.classification_report(y_true=true_labels, y_pred=predicted_labels, target_names=target_names) \n",
    "    print(report)\n",
    "    \n",
    "def display_model_performance_metrics(true_labels, predicted_labels, target_names):\n",
    "    print('Model Performance metrics:')\n",
    "    print('-'*30)\n",
    "    get_metrics(true_labels=true_labels, predicted_labels=predicted_labels)\n",
    "    print('\\nModel Classification report:')\n",
    "    print('-'*30)\n",
    "    display_classification_report(true_labels=true_labels, predicted_labels=predicted_labels, target_names=target_names)\n",
    "    print('\\nPrediction Confusion Matrix:')\n",
    "    print('-'*30)\n",
    "\n",
    "def get_metrics(true_labels, predicted_labels):\n",
    "    \n",
    "    print('Accuracy:  {:2.2%} '.format(metrics.accuracy_score(true_labels, predicted_labels)))\n",
    "    print('Precision: {:2.2%} '.format(metrics.precision_score(true_labels, predicted_labels, average='weighted')))\n",
    "    print('Recall:    {:2.2%} '.format(metrics.recall_score(true_labels, predicted_labels, average='weighted')))\n",
    "    print('F1 Score:  {:2.2%} '.format(metrics.f1_score(true_labels, predicted_labels, average='weighted')))\n",
    "         \n",
    "        \n",
    "def display_model_performance_metrics(true_labels, predicted_labels, target_names):\n",
    "    print('Model Performance metrics:')\n",
    "    print('-'*30)\n",
    "    get_metrics(true_labels=true_labels, predicted_labels=predicted_labels)\n",
    "    print('\\nModel Classification report:')\n",
    "    print('-'*30)\n",
    "    display_classification_report(true_labels=true_labels, predicted_labels=predicted_labels, target_names=target_names)\n",
    "\n",
    "\n",
    "def train_predict_model(classifier,  train_features, train_labels,  test_features, test_labels):\n",
    "    # build model    \n",
    "    classifier.fit(train_features, train_labels)\n",
    "    # predict using model\n",
    "    predictions = classifier.predict(test_features) \n",
    "    return predictions \n"
   ]
  },
  {
   "cell_type": "code",
   "execution_count": 218,
   "metadata": {},
   "outputs": [
    {
     "name": "stderr",
     "output_type": "stream",
     "text": [
      "/Users/adelliinaa/anaconda3/lib/python3.8/site-packages/sklearn/linear_model/_logistic.py:762: ConvergenceWarning: lbfgs failed to converge (status=1):\n",
      "STOP: TOTAL NO. of ITERATIONS REACHED LIMIT.\n",
      "\n",
      "Increase the number of iterations (max_iter) or scale the data as shown in:\n",
      "    https://scikit-learn.org/stable/modules/preprocessing.html\n",
      "Please also refer to the documentation for alternative solver options:\n",
      "    https://scikit-learn.org/stable/modules/linear_model.html#logistic-regression\n",
      "  n_iter_i = _check_optimize_result(\n"
     ]
    },
    {
     "name": "stdout",
     "output_type": "stream",
     "text": [
      "Model Performance metrics:\n",
      "------------------------------\n",
      "Accuracy:  65.78% \n",
      "Precision: 64.47% \n",
      "Recall:    65.78% \n",
      "F1 Score:  64.45% \n",
      "\n",
      "Model Classification report:\n",
      "------------------------------\n",
      "               precision    recall  f1-score   support\n",
      "\n",
      "very_negative       0.58      0.46      0.52      8592\n",
      "     negative       0.71      0.85      0.77     23569\n",
      "      neutral       0.60      0.51      0.55     10023\n",
      "     positive       0.52      0.35      0.42      2252\n",
      "very_positive       0.59      0.42      0.49      3053\n",
      "\n",
      "     accuracy                           0.66     47489\n",
      "    macro avg       0.60      0.52      0.55     47489\n",
      " weighted avg       0.64      0.66      0.64     47489\n",
      "\n"
     ]
    }
   ],
   "source": [
    "# Logistic Regression model on BOW features\n",
    "lr_bow_predictions = train_predict_model(classifier=lr, \n",
    "                                         train_features=cv_train_features, train_labels=train_sentiments,\n",
    "                                         test_features=cv_test_features, test_labels=test_sentiments)\n",
    "display_model_performance_metrics(true_labels=test_sentiments, predicted_labels=lr_bow_predictions,\n",
    "                                  target_names=['very_negative', 'negative', 'neutral', 'positive', 'very_positive'])"
   ]
  },
  {
   "cell_type": "code",
   "execution_count": 205,
   "metadata": {},
   "outputs": [
    {
     "name": "stdout",
     "output_type": "stream",
     "text": [
      "Model Performance metrics:\n",
      "------------------------------\n",
      "Accuracy:  83.62% \n",
      "Precision: 83.58% \n",
      "Recall:    83.62% \n",
      "F1 Score:  83.26% \n",
      "\n",
      "Model Classification report:\n",
      "------------------------------\n",
      "              precision    recall  f1-score   support\n",
      "\n",
      "    negative       0.84      0.92      0.88     30021\n",
      "    positive       0.83      0.70      0.76     17468\n",
      "\n",
      "    accuracy                           0.84     47489\n",
      "   macro avg       0.83      0.81      0.82     47489\n",
      "weighted avg       0.84      0.84      0.83     47489\n",
      "\n"
     ]
    }
   ],
   "source": [
    "# RESULTS FOR BINARY CLASSIFICATION\n",
    "# Logistic Regression model on BOW features\n",
    "lr_bow_predictions = train_predict_model(classifier=lr, \n",
    "                                         train_features=cv_train_features, train_labels=train_sentiments,\n",
    "                                         test_features=cv_test_features, test_labels=test_sentiments)\n",
    "display_model_performance_metrics(true_labels=test_sentiments, predicted_labels=lr_bow_predictions,\n",
    "                                  target_names=['negative', 'positive'])"
   ]
  },
  {
   "cell_type": "code",
   "execution_count": 50,
   "metadata": {},
   "outputs": [
    {
     "name": "stdout",
     "output_type": "stream",
     "text": [
      "SVM results with Bow:\n",
      "Model Performance metrics:\n",
      "------------------------------\n",
      "Accuracy:  61.73% \n",
      "Precision: 60.51% \n",
      "Recall:    61.73% \n",
      "F1 Score:  58.11% \n",
      "\n",
      "Model Classification report:\n",
      "------------------------------\n",
      "               precision    recall  f1-score   support\n",
      "\n",
      "very_negative       0.57      0.29      0.39      8592\n",
      "     negative       0.63      0.91      0.75     23569\n",
      "      neutral       0.59      0.36      0.44     10023\n",
      "     positive       0.52      0.28      0.36      2252\n",
      "very_positive       0.59      0.37      0.46      3053\n",
      "\n",
      "     accuracy                           0.62     47489\n",
      "    macro avg       0.58      0.44      0.48     47489\n",
      " weighted avg       0.61      0.62      0.58     47489\n",
      "\n",
      "------------------------------------------------------------\n",
      "\n",
      "SVM results with TF-IDF:\n",
      "Model Performance metrics:\n",
      "------------------------------\n",
      "Accuracy:  52.73% \n",
      "Precision: 52.71% \n",
      "Recall:    52.73% \n",
      "F1 Score:  41.94% \n",
      "\n",
      "Model Classification report:\n",
      "------------------------------\n",
      "               precision    recall  f1-score   support\n",
      "\n",
      "very_negative       0.47      0.06      0.10      8592\n",
      "     negative       0.53      0.96      0.68     23569\n",
      "      neutral       0.54      0.12      0.20     10023\n",
      "     positive       0.59      0.08      0.14      2252\n",
      "very_positive       0.63      0.13      0.22      3053\n",
      "\n",
      "     accuracy                           0.53     47489\n",
      "    macro avg       0.55      0.27      0.27     47489\n",
      " weighted avg       0.53      0.53      0.42     47489\n",
      "\n"
     ]
    }
   ],
   "source": [
    "svm_bow_predictions = train_predict_model(classifier=svm, \n",
    "                                          train_features=cv_train_features, train_labels=train_sentiments,\n",
    "                                          test_features=cv_test_features, test_labels=test_sentiments)\n",
    "print('SVM results with Bow:')\n",
    "display_model_performance_metrics(true_labels=test_sentiments, predicted_labels=svm_bow_predictions,\n",
    "                                 target_names=['very_negative', 'negative', 'neutral', 'positive', 'very_positive'])\n",
    "\n",
    "\n",
    "svm_tfidf_predictions = train_predict_model(classifier=svm, \n",
    "                                            train_features=tv_train_features, train_labels=train_sentiments,\n",
    "                                            test_features=tv_test_features, test_labels=test_sentiments)\n",
    "print('-'*60)\n",
    "print('\\nSVM results with TF-IDF:')\n",
    "display_model_performance_metrics(true_labels=test_sentiments, predicted_labels=svm_tfidf_predictions,\n",
    "                                  target_names=['very_negative', 'negative', 'neutral', 'positive', 'very_positive'])"
   ]
  },
  {
   "cell_type": "code",
   "execution_count": 57,
   "metadata": {},
   "outputs": [
    {
     "name": "stdout",
     "output_type": "stream",
     "text": [
      "SVM results with Bow:\n",
      "Model Performance metrics:\n",
      "------------------------------\n",
      "Accuracy:  80.56% \n",
      "Precision: 81.36% \n",
      "Recall:    80.56% \n",
      "F1 Score:  79.47% \n",
      "\n",
      "Model Classification report:\n",
      "------------------------------\n",
      "              precision    recall  f1-score   support\n",
      "\n",
      "    negative       0.79      0.94      0.86     30021\n",
      "    positive       0.85      0.57      0.68     17468\n",
      "\n",
      "    accuracy                           0.81     47489\n",
      "   macro avg       0.82      0.76      0.77     47489\n",
      "weighted avg       0.81      0.81      0.79     47489\n",
      "\n",
      "------------------------------------------------------------\n",
      "\n",
      "SVM results with TF-IDF:\n",
      "Model Performance metrics:\n",
      "------------------------------\n",
      "Accuracy:  73.44% \n",
      "Precision: 77.15% \n",
      "Recall:    73.44% \n",
      "F1 Score:  69.43% \n",
      "\n",
      "Model Classification report:\n",
      "------------------------------\n",
      "              precision    recall  f1-score   support\n",
      "\n",
      "    negative       0.71      0.97      0.82     30021\n",
      "    positive       0.87      0.33      0.47     17468\n",
      "\n",
      "    accuracy                           0.73     47489\n",
      "   macro avg       0.79      0.65      0.65     47489\n",
      "weighted avg       0.77      0.73      0.69     47489\n",
      "\n"
     ]
    }
   ],
   "source": [
    "svm_bow_predictions = train_predict_model(classifier=svm, \n",
    "                                          train_features=cv_train_features, train_labels=train_sentiments,\n",
    "                                          test_features=cv_test_features, test_labels=test_sentiments)\n",
    "print('SVM results with Bow:')\n",
    "display_model_performance_metrics(true_labels=test_sentiments, predicted_labels=svm_bow_predictions,\n",
    "                                 target_names=['negative', 'positive'])\n",
    "\n",
    "\n",
    "svm_tfidf_predictions = train_predict_model(classifier=svm, \n",
    "                                            train_features=tv_train_features, train_labels=train_sentiments,\n",
    "                                            test_features=tv_test_features, test_labels=test_sentiments)\n",
    "print('-'*60)\n",
    "print('\\nSVM results with TF-IDF:')\n",
    "display_model_performance_metrics(true_labels=test_sentiments, predicted_labels=svm_tfidf_predictions,\n",
    "                                  target_names=['negative', 'positive'])"
   ]
  },
  {
   "cell_type": "code",
   "execution_count": null,
   "metadata": {},
   "outputs": [],
   "source": []
  }
 ],
 "metadata": {
  "kernelspec": {
   "display_name": "Python 3",
   "language": "python",
   "name": "python3"
  },
  "language_info": {
   "codemirror_mode": {
    "name": "ipython",
    "version": 3
   },
   "file_extension": ".py",
   "mimetype": "text/x-python",
   "name": "python",
   "nbconvert_exporter": "python",
   "pygments_lexer": "ipython3",
   "version": "3.8.3"
  }
 },
 "nbformat": 4,
 "nbformat_minor": 4
}
