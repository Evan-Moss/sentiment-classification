{
 "cells": [
  {
   "cell_type": "markdown",
   "metadata": {},
   "source": [
    "# Pre-processing\n",
    "Notebook to explore the pre-processing of the data."
   ]
  },
  {
   "cell_type": "code",
   "execution_count": 175,
   "metadata": {},
   "outputs": [
    {
     "name": "stderr",
     "output_type": "stream",
     "text": [
      "[nltk_data] Downloading package stopwords to\n",
      "[nltk_data]     /Users/adelliinaa/nltk_data...\n",
      "[nltk_data]   Package stopwords is already up-to-date!\n",
      "[nltk_data] Downloading package wordnet to\n",
      "[nltk_data]     /Users/adelliinaa/nltk_data...\n",
      "[nltk_data]   Package wordnet is already up-to-date!\n",
      "[nltk_data] Downloading package averaged_perceptron_tagger to\n",
      "[nltk_data]     /Users/adelliinaa/nltk_data...\n",
      "[nltk_data]   Package averaged_perceptron_tagger is already up-to-\n",
      "[nltk_data]       date!\n"
     ]
    }
   ],
   "source": [
    "import pandas as pd\n",
    "import numpy as np\n",
    "from nltk.stem.porter import PorterStemmer\n",
    "from nltk.stem import WordNetLemmatizer\n",
    "from nltk import pos_tag\n",
    "from nltk.corpus import wordnet\n",
    "from sklearn import metrics\n",
    "from sklearn.metrics import roc_auc_score, roc_curve, auc, accuracy_score\n",
    "from sklearn.model_selection import train_test_split\n",
    "from sklearn.linear_model import SGDClassifier, LogisticRegression\n",
    "import nltk # To download\n",
    "import re\n",
    "from nltk.corpus import stopwords\n",
    "nltk.download('stopwords') # For stop words\n",
    "nltk.download('wordnet') # For POS \n",
    "nltk.download('averaged_perceptron_tagger') # For POS tagging\n",
    "stop_words = set(stopwords.words('english'))\n",
    "stop_words.add('')\n",
    "stop_words.remove('no')\n",
    "stop_words.remove('not')"
   ]
  },
  {
   "cell_type": "code",
   "execution_count": 176,
   "metadata": {},
   "outputs": [],
   "source": [
    "data = pd.read_csv('../data/stanfordSentimentTreebank/dictionary.txt', sep='|', index_col=1)\n",
    "train_test = pd.read_csv('../data/stanfordSentimentTreebank/sentiment_labels.txt', sep='|', index_col=0)\n",
    "\n",
    "#data.rename(columns={0: 'phrase_ids', 1: 'phrase'})\n",
    "data.columns = ['phrase_tokens']\n",
    "data.index.names = ['phrase_id']\n",
    "train_test.columns = ['sentiment_value']\n",
    "train_test.index.names = ['phrase_id']\n"
   ]
  },
  {
   "cell_type": "code",
   "execution_count": 295,
   "metadata": {},
   "outputs": [],
   "source": [
    "stemmer = PorterStemmer()\n",
    "lemmatizer = WordNetLemmatizer() \n",
    "\n",
    "def get_pos_from_tag(tag):\n",
    "    if tag.startswith('J'):\n",
    "        return wordnet.ADJ\n",
    "    elif tag.startswith('V'):\n",
    "        return wordnet.VERB\n",
    "    elif tag.startswith('N'):\n",
    "        return wordnet.NOUN\n",
    "    elif tag.startswith('R'):\n",
    "        return wordnet.ADV\n",
    "    else:\n",
    "        return wordnet.NOUN\n",
    "\n",
    "    \n",
    "def pre_processing(collection):\n",
    "    # Case-fold\n",
    "    collection = collection.lower()\n",
    "    \n",
    "    # Tokenising, converts all non-chars, new-lines and tabs to ' '\n",
    "    collection = list(filter(None, re.sub(r'[\\W]', ' ',collection).split(' ')))\n",
    "    collection = pos_tag(collection)\n",
    "    \n",
    "    # Stemming and Stopping \n",
    "    return [lemmatizer.lemmatize(term[0], pos = get_pos_from_tag(term[1])) for term in collection if term[0] not in stop_words] \n",
    "\n",
    "#pre_processing(\"This is a test sentence I love this film it's good. better than the last one, greater than the second one it was playing plays played\")\n"
   ]
  },
  {
   "cell_type": "code",
   "execution_count": 296,
   "metadata": {},
   "outputs": [],
   "source": [
    "# Apply pre_processing to data\n",
    "\n",
    "data['phrase_tokens'] = data['phrase_tokens'].apply(pre_processing)"
   ]
  },
  {
   "cell_type": "code",
   "execution_count": 297,
   "metadata": {},
   "outputs": [],
   "source": [
    "# Remove empty phrases \n",
    "for index, row in data.iterrows():\n",
    "    if len(row[0]) == 0:\n",
    "        data = data.drop([index], axis=0)"
   ]
  },
  {
   "cell_type": "code",
   "execution_count": 298,
   "metadata": {},
   "outputs": [],
   "source": [
    "# Inner Join on phrase_id\n",
    "\n",
    "labelled_phrases = pd.merge(data, train_test, left_index=True, right_index=True)\n",
    "labelled_phrases = labelled_phrases.sort_index(ascending=True)"
   ]
  },
  {
   "cell_type": "code",
   "execution_count": 181,
   "metadata": {},
   "outputs": [],
   "source": [
    "# UNCOMMENT FOR BINARY CLASIFICATION\n",
    "conditions = [\n",
    "    (labelled_phrases['sentiment_value'] >= 0) & (labelled_phrases['sentiment_value'] <= 0.55),\n",
    "    (labelled_phrases['sentiment_value'] > 0.55) & (labelled_phrases['sentiment_value'] <= 1)]\n",
    "values = ['negative', 'positive']\n",
    "labelled_phrases['sentiment'] = np.select(conditions, values)\n"
   ]
  },
  {
   "cell_type": "code",
   "execution_count": 299,
   "metadata": {},
   "outputs": [],
   "source": [
    "# create a list of our conditions\n",
    "conditions = [\n",
    "    (labelled_phrases['sentiment_value'] >= 0) & (labelled_phrases['sentiment_value'] <= 0.2),\n",
    "    (labelled_phrases['sentiment_value'] > 0.2) & (labelled_phrases['sentiment_value'] <= 0.4),\n",
    "    (labelled_phrases['sentiment_value'] > 0.4) & (labelled_phrases['sentiment_value'] <= 0.6),\n",
    "    (labelled_phrases['sentiment_value'] > 0.6) & (labelled_phrases['sentiment_value'] <= 0.8),\n",
    "    (labelled_phrases['sentiment_value'] > 0.8) & (labelled_phrases['sentiment_value'] <= 1)\n",
    "    ]\n",
    "\n",
    "# create a list of the values we want to assign for each condition\n",
    "values = ['very_negative', 'negative', 'neutral', 'positive', 'very_positive']\n",
    "\n",
    "# create a new column and use np.select to assign values to it using our lists as arguments\n",
    "labelled_phrases['sentiment'] = np.select(conditions, values)\n"
   ]
  },
  {
   "cell_type": "code",
   "execution_count": null,
   "metadata": {},
   "outputs": [],
   "source": []
  },
  {
   "cell_type": "code",
   "execution_count": 300,
   "metadata": {},
   "outputs": [
    {
     "data": {
      "text/html": [
       "<div>\n",
       "<style scoped>\n",
       "    .dataframe tbody tr th:only-of-type {\n",
       "        vertical-align: middle;\n",
       "    }\n",
       "\n",
       "    .dataframe tbody tr th {\n",
       "        vertical-align: top;\n",
       "    }\n",
       "\n",
       "    .dataframe thead th {\n",
       "        text-align: right;\n",
       "    }\n",
       "</style>\n",
       "<table border=\"1\" class=\"dataframe\">\n",
       "  <thead>\n",
       "    <tr style=\"text-align: right;\">\n",
       "      <th></th>\n",
       "      <th>phrase_tokens</th>\n",
       "      <th>sentiment</th>\n",
       "      <th>sentiment_value</th>\n",
       "    </tr>\n",
       "  </thead>\n",
       "  <tbody>\n",
       "    <tr>\n",
       "      <th>0</th>\n",
       "      <td>[cockettes]</td>\n",
       "      <td>neutral</td>\n",
       "      <td>0.50000</td>\n",
       "    </tr>\n",
       "    <tr>\n",
       "      <th>1</th>\n",
       "      <td>[cockettes]</td>\n",
       "      <td>neutral</td>\n",
       "      <td>0.50000</td>\n",
       "    </tr>\n",
       "    <tr>\n",
       "      <th>2</th>\n",
       "      <td>[cockettes, provide, window, subculture, hell,...</td>\n",
       "      <td>neutral</td>\n",
       "      <td>0.44444</td>\n",
       "    </tr>\n",
       "    <tr>\n",
       "      <th>3</th>\n",
       "      <td>[cockettes, provide, window, subculture, hell,...</td>\n",
       "      <td>neutral</td>\n",
       "      <td>0.50000</td>\n",
       "    </tr>\n",
       "    <tr>\n",
       "      <th>4</th>\n",
       "      <td>[cockettes, provide, window, subculture, hell,...</td>\n",
       "      <td>neutral</td>\n",
       "      <td>0.42708</td>\n",
       "    </tr>\n",
       "  </tbody>\n",
       "</table>\n",
       "</div>"
      ],
      "text/plain": [
       "                                       phrase_tokens sentiment  \\\n",
       "0                                        [cockettes]   neutral   \n",
       "1                                        [cockettes]   neutral   \n",
       "2  [cockettes, provide, window, subculture, hell,...   neutral   \n",
       "3  [cockettes, provide, window, subculture, hell,...   neutral   \n",
       "4  [cockettes, provide, window, subculture, hell,...   neutral   \n",
       "\n",
       "   sentiment_value  \n",
       "0          0.50000  \n",
       "1          0.50000  \n",
       "2          0.44444  \n",
       "3          0.50000  \n",
       "4          0.42708  "
      ]
     },
     "execution_count": 300,
     "metadata": {},
     "output_type": "execute_result"
    }
   ],
   "source": [
    "labelled_phrases.to_csv('labelled_phrases.csv', index=True)\n",
    "labelled_phrases.head()"
   ]
  },
  {
   "cell_type": "code",
   "execution_count": 305,
   "metadata": {},
   "outputs": [
    {
     "data": {
      "text/plain": [
       "Text(0, 0.5, 'Label')"
      ]
     },
     "execution_count": 305,
     "metadata": {},
     "output_type": "execute_result"
    },
    {
     "data": {
      "image/png": "[encoded data removed]",
      "text/plain": [
       "<Figure size 432x288 with 1 Axes>"
      ]
     },
     "metadata": {
      "needs_background": "light"
     },
     "output_type": "display_data"
    }
   ],
   "source": [
    "import matplotlib.pyplot as plt\n",
    "ax = labelled_phrases[\"sentiment\"].value_counts(sort=False).plot(kind=\"barh\")\n",
    "ax.set_xlabel(\"Number of Samples in training Set\")\n",
    "ax.set_ylabel(\"Label\")"
   ]
  },
  {
   "cell_type": "code",
   "execution_count": 306,
   "metadata": {},
   "outputs": [],
   "source": [
    "data = pd.read_csv('labelled_phrases.csv')\n",
    "data = data.drop(columns=['phrase_id', 'sentiment_value'])"
   ]
  },
  {
   "cell_type": "code",
   "execution_count": 307,
   "metadata": {},
   "outputs": [],
   "source": [
    "#data = data[data.sentiment != 'neutral']"
   ]
  },
  {
   "cell_type": "code",
   "execution_count": 308,
   "metadata": {},
   "outputs": [],
   "source": [
    "reviews = np.array(data['phrase_tokens'])\n",
    "sentiments = np.array(data['sentiment'])\n",
    "\n",
    "# build train and test datasets\n",
    "train_reviews, test_reviews, train_sentiments, test_sentiments = train_test_split(reviews, sentiments , test_size=0.20,  random_state=0)\n"
   ]
  },
  {
   "cell_type": "code",
   "execution_count": 309,
   "metadata": {},
   "outputs": [
    {
     "name": "stdout",
     "output_type": "stream",
     "text": [
      "BOW model:> Train features shape: (189955, 105660)  Test features shape: (47489, 105660)\n",
      "TFIDF model:> Train features shape: (189955, 105660)  Test features shape: (47489, 105660)\n"
     ]
    }
   ],
   "source": [
    "from sklearn.feature_extraction.text import CountVectorizer, TfidfVectorizer\n",
    "\n",
    "cv = CountVectorizer(binary=False, min_df=0.0, max_df=1.0, ngram_range=(1,2))\n",
    "cv_train_features = cv.fit_transform(train_reviews)\n",
    "\n",
    "# build TFIDF features on train reviews\n",
    "tv = TfidfVectorizer(use_idf=True, min_df=0.0, max_df=1.0, ngram_range=(1,2), sublinear_tf=True)\n",
    "tv_train_features = tv.fit_transform(train_reviews)\n",
    "\n",
    "\n",
    "# transform test reviews into features\n",
    "cv_test_features = cv.transform(test_reviews)\n",
    "tv_test_features = tv.transform(test_reviews)\n",
    "\n",
    "print('BOW model:> Train features shape:', cv_train_features.shape, ' Test features shape:', cv_test_features.shape)\n",
    "print('TFIDF model:> Train features shape:', tv_train_features.shape, ' Test features shape:', tv_test_features.shape)"
   ]
  },
  {
   "cell_type": "code",
   "execution_count": 275,
   "metadata": {},
   "outputs": [],
   "source": [
    "lr = LogisticRegression(multi_class='multinomial', solver='lbfgs',max_iter=1000)\n",
    "svm = SGDClassifier(loss='hinge', l1_ratio=0.15, max_iter=1000, n_jobs=4, random_state=101)"
   ]
  },
  {
   "cell_type": "code",
   "execution_count": 310,
   "metadata": {},
   "outputs": [],
   "source": [
    "def display_classification_report(true_labels, predicted_labels, target_names):\n",
    "\n",
    "    report = metrics.classification_report(y_true=true_labels, y_pred=predicted_labels, target_names=target_names) \n",
    "    print(report)\n",
    "    \n",
    "def display_model_performance_metrics(true_labels, predicted_labels, target_names):\n",
    "    print('Model Performance metrics:')\n",
    "    print('-'*30)\n",
    "    get_metrics(true_labels=true_labels, predicted_labels=predicted_labels)\n",
    "    print('\\nModel Classification report:')\n",
    "    print('-'*30)\n",
    "    display_classification_report(true_labels=true_labels, predicted_labels=predicted_labels, target_names=target_names)\n",
    "    print('\\nPrediction Confusion Matrix:')\n",
    "    print('-'*30)\n",
    "\n",
    "def get_metrics(true_labels, predicted_labels):\n",
    "    \n",
    "    print('Accuracy:  {:2.2%} '.format(metrics.accuracy_score(true_labels, predicted_labels)))\n",
    "    print('Precision: {:2.2%} '.format(metrics.precision_score(true_labels, predicted_labels, average='weighted')))\n",
    "    print('Recall:    {:2.2%} '.format(metrics.recall_score(true_labels, predicted_labels, average='weighted')))\n",
    "    print('F1 Score:  {:2.2%} '.format(metrics.f1_score(true_labels, predicted_labels, average='weighted')))\n",
    "         \n",
    "        \n",
    "def display_model_performance_metrics(true_labels, predicted_labels, target_names):\n",
    "    print('Model Performance metrics:')\n",
    "    print('-'*30)\n",
    "    get_metrics(true_labels=true_labels, predicted_labels=predicted_labels)\n",
    "    print('\\nModel Classification report:')\n",
    "    print('-'*30)\n",
    "    display_classification_report(true_labels=true_labels, predicted_labels=predicted_labels, target_names=target_names)\n",
    "\n",
    "\n",
    "def train_predict_model(classifier,  train_features, train_labels,  test_features, test_labels):\n",
    "    # build model    \n",
    "    classifier.fit(train_features, train_labels)\n",
    "    # predict using model\n",
    "    predictions = classifier.predict(test_features) \n",
    "    return predictions \n"
   ]
  },
  {
   "cell_type": "code",
   "execution_count": 311,
   "metadata": {},
   "outputs": [],
   "source": [
    "target_names=['very_neg', 'neg', 'neutral', 'pos', 'very_pos']\n",
    "#target_names=['positive','neagtive']"
   ]
  },
  {
   "cell_type": "code",
   "execution_count": 312,
   "metadata": {},
   "outputs": [
    {
     "data": {
      "image/png": "[encoded data removed]",
      "text/plain": [
       "<Figure size 432x288 with 2 Axes>"
      ]
     },
     "metadata": {
      "needs_background": "light"
     },
     "output_type": "display_data"
    }
   ],
   "source": [
    "from sklearn.metrics import plot_confusion_matrix\n",
    "from sklearn.metrics import confusion_matrix\n",
    "classifier = lr.fit(cv_train_features, train_sentiments)\n",
    "disp = plot_confusion_matrix(classifier, cv_test_features, test_sentiments,\n",
    "                                 display_labels=target_names,\n",
    "                                 cmap=plt.cm.Blues)\n",
    "plt.show()"
   ]
  },
  {
   "cell_type": "code",
   "execution_count": 233,
   "metadata": {},
   "outputs": [],
   "source": [
    "import numpy\n",
    "temp = []\n",
    "for i in test_sentiments:\n",
    "    if i == 'positive':\n",
    "        temp.append(1)\n",
    "    else:\n",
    "        temp.append(0)\n"
   ]
  },
  {
   "cell_type": "code",
   "execution_count": 234,
   "metadata": {},
   "outputs": [],
   "source": [
    "test_sentiments_bi = numpy.array(temp)\n",
    "lr_bow_predictions_bi = numpy.array(temp)\n"
   ]
  },
  {
   "cell_type": "code",
   "execution_count": 232,
   "metadata": {},
   "outputs": [
    {
     "data": {
      "text/plain": [
       "array([0, 1, 0, ..., 1, 1, 1])"
      ]
     },
     "execution_count": 232,
     "metadata": {},
     "output_type": "execute_result"
    }
   ],
   "source": [
    "lr_bow_predictions_bi"
   ]
  },
  {
   "cell_type": "code",
   "execution_count": 277,
   "metadata": {},
   "outputs": [
    {
     "ename": "NotFittedError",
     "evalue": "This LogisticRegression instance is not fitted yet. Call 'fit' with appropriate arguments before using this estimator.",
     "output_type": "error",
     "traceback": [
      "\u001b[0;31m---------------------------------------------------------------------------\u001b[0m",
      "\u001b[0;31mNotFittedError\u001b[0m                            Traceback (most recent call last)",
      "\u001b[0;32m<ipython-input-277-d14eadc760e1>\u001b[0m in \u001b[0;36m<module>\u001b[0;34m\u001b[0m\n\u001b[1;32m     32\u001b[0m     \u001b[0mplt\u001b[0m\u001b[0;34m.\u001b[0m\u001b[0mshow\u001b[0m\u001b[0;34m(\u001b[0m\u001b[0;34m)\u001b[0m\u001b[0;34m\u001b[0m\u001b[0;34m\u001b[0m\u001b[0m\n\u001b[1;32m     33\u001b[0m \u001b[0;34m\u001b[0m\u001b[0m\n\u001b[0;32m---> 34\u001b[0;31m \u001b[0mplot_multiclass_roc\u001b[0m\u001b[0;34m(\u001b[0m\u001b[0mlr\u001b[0m\u001b[0;34m,\u001b[0m\u001b[0mcv_test_features\u001b[0m\u001b[0;34m,\u001b[0m \u001b[0mtest_sentiments\u001b[0m\u001b[0;34m,\u001b[0m \u001b[0mn_classes\u001b[0m\u001b[0;34m=\u001b[0m\u001b[0;36m2\u001b[0m\u001b[0;34m,\u001b[0m \u001b[0mfigsize\u001b[0m\u001b[0;34m=\u001b[0m\u001b[0;34m(\u001b[0m\u001b[0;36m16\u001b[0m\u001b[0;34m,\u001b[0m \u001b[0;36m10\u001b[0m\u001b[0;34m)\u001b[0m\u001b[0;34m)\u001b[0m\u001b[0;34m\u001b[0m\u001b[0;34m\u001b[0m\u001b[0m\n\u001b[0m",
      "\u001b[0;32m<ipython-input-277-d14eadc760e1>\u001b[0m in \u001b[0;36mplot_multiclass_roc\u001b[0;34m(clf, X_test, y_test, n_classes, figsize)\u001b[0m\n\u001b[1;32m      2\u001b[0m \u001b[0;34m\u001b[0m\u001b[0m\n\u001b[1;32m      3\u001b[0m \u001b[0;32mdef\u001b[0m \u001b[0mplot_multiclass_roc\u001b[0m\u001b[0;34m(\u001b[0m\u001b[0mclf\u001b[0m\u001b[0;34m,\u001b[0m \u001b[0mX_test\u001b[0m\u001b[0;34m,\u001b[0m \u001b[0my_test\u001b[0m\u001b[0;34m,\u001b[0m \u001b[0mn_classes\u001b[0m\u001b[0;34m,\u001b[0m \u001b[0mfigsize\u001b[0m\u001b[0;34m=\u001b[0m\u001b[0;34m(\u001b[0m\u001b[0;36m17\u001b[0m\u001b[0;34m,\u001b[0m \u001b[0;36m6\u001b[0m\u001b[0;34m)\u001b[0m\u001b[0;34m)\u001b[0m\u001b[0;34m:\u001b[0m\u001b[0;34m\u001b[0m\u001b[0;34m\u001b[0m\u001b[0m\n\u001b[0;32m----> 4\u001b[0;31m     \u001b[0my_score\u001b[0m \u001b[0;34m=\u001b[0m \u001b[0mclf\u001b[0m\u001b[0;34m.\u001b[0m\u001b[0mdecision_function\u001b[0m\u001b[0;34m(\u001b[0m\u001b[0mX_test\u001b[0m\u001b[0;34m)\u001b[0m\u001b[0;34m\u001b[0m\u001b[0;34m\u001b[0m\u001b[0m\n\u001b[0m\u001b[1;32m      5\u001b[0m \u001b[0;34m\u001b[0m\u001b[0m\n\u001b[1;32m      6\u001b[0m     \u001b[0;31m# structures\u001b[0m\u001b[0;34m\u001b[0m\u001b[0;34m\u001b[0m\u001b[0;34m\u001b[0m\u001b[0m\n",
      "\u001b[0;32m~/anaconda3/lib/python3.8/site-packages/sklearn/linear_model/_base.py\u001b[0m in \u001b[0;36mdecision_function\u001b[0;34m(self, X)\u001b[0m\n\u001b[1;32m    280\u001b[0m             \u001b[0;32mclass\u001b[0m \u001b[0mwould\u001b[0m \u001b[0mbe\u001b[0m \u001b[0mpredicted\u001b[0m\u001b[0;34m.\u001b[0m\u001b[0;34m\u001b[0m\u001b[0;34m\u001b[0m\u001b[0m\n\u001b[1;32m    281\u001b[0m         \"\"\"\n\u001b[0;32m--> 282\u001b[0;31m         \u001b[0mcheck_is_fitted\u001b[0m\u001b[0;34m(\u001b[0m\u001b[0mself\u001b[0m\u001b[0;34m)\u001b[0m\u001b[0;34m\u001b[0m\u001b[0;34m\u001b[0m\u001b[0m\n\u001b[0m\u001b[1;32m    283\u001b[0m \u001b[0;34m\u001b[0m\u001b[0m\n\u001b[1;32m    284\u001b[0m         \u001b[0mX\u001b[0m \u001b[0;34m=\u001b[0m \u001b[0mcheck_array\u001b[0m\u001b[0;34m(\u001b[0m\u001b[0mX\u001b[0m\u001b[0;34m,\u001b[0m \u001b[0maccept_sparse\u001b[0m\u001b[0;34m=\u001b[0m\u001b[0;34m'csr'\u001b[0m\u001b[0;34m)\u001b[0m\u001b[0;34m\u001b[0m\u001b[0;34m\u001b[0m\u001b[0m\n",
      "\u001b[0;32m~/anaconda3/lib/python3.8/site-packages/sklearn/utils/validation.py\u001b[0m in \u001b[0;36minner_f\u001b[0;34m(*args, **kwargs)\u001b[0m\n\u001b[1;32m     61\u001b[0m             \u001b[0mextra_args\u001b[0m \u001b[0;34m=\u001b[0m \u001b[0mlen\u001b[0m\u001b[0;34m(\u001b[0m\u001b[0margs\u001b[0m\u001b[0;34m)\u001b[0m \u001b[0;34m-\u001b[0m \u001b[0mlen\u001b[0m\u001b[0;34m(\u001b[0m\u001b[0mall_args\u001b[0m\u001b[0;34m)\u001b[0m\u001b[0;34m\u001b[0m\u001b[0;34m\u001b[0m\u001b[0m\n\u001b[1;32m     62\u001b[0m             \u001b[0;32mif\u001b[0m \u001b[0mextra_args\u001b[0m \u001b[0;34m<=\u001b[0m \u001b[0;36m0\u001b[0m\u001b[0;34m:\u001b[0m\u001b[0;34m\u001b[0m\u001b[0;34m\u001b[0m\u001b[0m\n\u001b[0;32m---> 63\u001b[0;31m                 \u001b[0;32mreturn\u001b[0m \u001b[0mf\u001b[0m\u001b[0;34m(\u001b[0m\u001b[0;34m*\u001b[0m\u001b[0margs\u001b[0m\u001b[0;34m,\u001b[0m \u001b[0;34m**\u001b[0m\u001b[0mkwargs\u001b[0m\u001b[0;34m)\u001b[0m\u001b[0;34m\u001b[0m\u001b[0;34m\u001b[0m\u001b[0m\n\u001b[0m\u001b[1;32m     64\u001b[0m \u001b[0;34m\u001b[0m\u001b[0m\n\u001b[1;32m     65\u001b[0m             \u001b[0;31m# extra_args > 0\u001b[0m\u001b[0;34m\u001b[0m\u001b[0;34m\u001b[0m\u001b[0;34m\u001b[0m\u001b[0m\n",
      "\u001b[0;32m~/anaconda3/lib/python3.8/site-packages/sklearn/utils/validation.py\u001b[0m in \u001b[0;36mcheck_is_fitted\u001b[0;34m(estimator, attributes, msg, all_or_any)\u001b[0m\n\u001b[1;32m   1039\u001b[0m \u001b[0;34m\u001b[0m\u001b[0m\n\u001b[1;32m   1040\u001b[0m     \u001b[0;32mif\u001b[0m \u001b[0;32mnot\u001b[0m \u001b[0mattrs\u001b[0m\u001b[0;34m:\u001b[0m\u001b[0;34m\u001b[0m\u001b[0;34m\u001b[0m\u001b[0m\n\u001b[0;32m-> 1041\u001b[0;31m         \u001b[0;32mraise\u001b[0m \u001b[0mNotFittedError\u001b[0m\u001b[0;34m(\u001b[0m\u001b[0mmsg\u001b[0m \u001b[0;34m%\u001b[0m \u001b[0;34m{\u001b[0m\u001b[0;34m'name'\u001b[0m\u001b[0;34m:\u001b[0m \u001b[0mtype\u001b[0m\u001b[0;34m(\u001b[0m\u001b[0mestimator\u001b[0m\u001b[0;34m)\u001b[0m\u001b[0;34m.\u001b[0m\u001b[0m__name__\u001b[0m\u001b[0;34m}\u001b[0m\u001b[0;34m)\u001b[0m\u001b[0;34m\u001b[0m\u001b[0;34m\u001b[0m\u001b[0m\n\u001b[0m\u001b[1;32m   1042\u001b[0m \u001b[0;34m\u001b[0m\u001b[0m\n\u001b[1;32m   1043\u001b[0m \u001b[0;34m\u001b[0m\u001b[0m\n",
      "\u001b[0;31mNotFittedError\u001b[0m: This LogisticRegression instance is not fitted yet. Call 'fit' with appropriate arguments before using this estimator."
     ]
    }
   ],
   "source": [
    "import seaborn as sns\n",
    "\n",
    "def plot_multiclass_roc(clf, X_test, y_test, n_classes, figsize=(17, 6)):\n",
    "    y_score = clf.decision_function(X_test)\n",
    "\n",
    "    # structures\n",
    "    fpr = dict()\n",
    "    tpr = dict()\n",
    "    roc_auc = dict()\n",
    "\n",
    "    # calculate dummies once\n",
    "    y_test_dummies = pd.get_dummies(y_test, drop_first=False).values\n",
    "    for i in range(n_classes):\n",
    "        fpr[i], tpr[i], _ = roc_curve(y_test_dummies[:, i], y_score[:, i])\n",
    "        roc_auc[i] = auc(fpr[i], tpr[i])\n",
    "\n",
    "    # roc for each class\n",
    "    fig, ax = plt.subplots(figsize=figsize)\n",
    "    ax.plot([0, 1], [0, 1], 'k--')\n",
    "    ax.set_xlim([0.0, 1.0])\n",
    "    ax.set_ylim([0.0, 1.05])\n",
    "    ax.set_xlabel('False Positive Rate')\n",
    "    ax.set_ylabel('True Positive Rate')\n",
    "    ax.set_title('Logistic Regression ROC')\n",
    "    target_names=['very_neg', 'neg', 'neutral', 'pos', 'very_pos']\n",
    "    for i in range(n_classes):\n",
    "        c = target_names[i]\n",
    "        ax.plot(fpr[i], tpr[i], label='ROC curve (area = %0.2f) for label %i' % (roc_auc[i], i))\n",
    "    ax.legend(loc=\"best\")\n",
    "    ax.grid(alpha=.4)\n",
    "    sns.despine()\n",
    "    plt.show()\n",
    "\n",
    "plot_multiclass_roc(lr,cv_test_features, test_sentiments, n_classes=2, figsize=(16, 10))\n"
   ]
  },
  {
   "cell_type": "code",
   "execution_count": null,
   "metadata": {},
   "outputs": [],
   "source": [
    "# Predict the labels of the test set samples\n",
    "predicted_labels = classifier.predict(cv_test_features)\n",
    "# Build the confusion matrix of our 3-class classification problem\n",
    "cnf_matrix = confusion_matrix(test_sentiments, predicted_labels)\n"
   ]
  },
  {
   "cell_type": "code",
   "execution_count": 250,
   "metadata": {},
   "outputs": [],
   "source": [
    "FP = cnf_matrix.sum(axis=0) - np.diag(cnf_matrix) \n",
    "FN = cnf_matrix.sum(axis=1) - np.diag(cnf_matrix)\n",
    "TP = np.diag(cnf_matrix)\n",
    "TN = cnf_matrix.sum() - (FP + FN + TP)\n",
    "FP = FP.astype(float)\n",
    "FN = FN.astype(float)\n",
    "TP = TP.astype(float)\n",
    "TN = TN.astype(float)\n",
    "# Sensitivity, hit rate, recall, or true positive rate\n",
    "TPR = TP/(TP+FN)\n",
    "# Specificity or true negative rate\n",
    "TNR = TN/(TN+FP) \n",
    "# Precision or positive predictive value\n",
    "PPV = TP/(TP+FP)\n",
    "# Negative predictive value\n",
    "NPV = TN/(TN+FN)\n",
    "# Fall out or false positive rate\n",
    "FPR = FP/(FP+TN)\n",
    "# False negative rate\n",
    "FNR = FN/(TP+FN)\n",
    "# False discovery rate\n",
    "FDR = FP/(TP+FP)\n",
    "# Overall accuracy for each class\n",
    "ACC = (TP+TN)/(TP+FP+FN+TN)\n"
   ]
  },
  {
   "cell_type": "code",
   "execution_count": 251,
   "metadata": {},
   "outputs": [
    {
     "name": "stdout",
     "output_type": "stream",
     "text": [
      "ACC:  [0.83642528 0.83642528]\n"
     ]
    }
   ],
   "source": [
    "# Overall Logistic Regression accuracy for binary classification\n",
    "print('ACC: ', ACC)"
   ]
  },
  {
   "cell_type": "code",
   "execution_count": 147,
   "metadata": {},
   "outputs": [
    {
     "name": "stdout",
     "output_type": "stream",
     "text": [
      "ACC:  [0.84278464 0.75339552 0.82381183 0.95449473 0.94287098]\n"
     ]
    }
   ],
   "source": [
    "# Overall Logistic Regression accuracy for each class\n",
    "print('ACC: ', ACC)"
   ]
  },
  {
   "cell_type": "code",
   "execution_count": null,
   "metadata": {},
   "outputs": [],
   "source": [
    "# Logistic Regression model on BOW features\n",
    "lr_bow_predictions = train_predict_model(classifier=lr, \n",
    "                                         train_features=cv_train_features, train_labels=train_sentiments,\n",
    "                                         test_features=cv_test_features, test_labels=test_sentiments)\n",
    "display_model_performance_metrics(true_labels=test_sentiments, predicted_labels=lr_bow_predictions,\n",
    "                                  target_names=['very_negative', 'negative', 'neutral', 'positive', 'very_positive'])"
   ]
  },
  {
   "cell_type": "code",
   "execution_count": 293,
   "metadata": {},
   "outputs": [],
   "source": [
    "from sklearn.ensemble import RandomForestClassifier\n",
    "from sklearn.model_selection import cross_val_score\n",
    "\n",
    "rf = RandomForestClassifier()"
   ]
  },
  {
   "cell_type": "code",
   "execution_count": 313,
   "metadata": {},
   "outputs": [
    {
     "name": "stdout",
     "output_type": "stream",
     "text": [
      "Model Performance metrics:\n",
      "------------------------------\n",
      "Accuracy:  63.87% \n",
      "Precision: 62.95% \n",
      "Recall:    63.87% \n",
      "F1 Score:  63.24% \n",
      "\n",
      "Model Classification report:\n",
      "------------------------------\n",
      "               precision    recall  f1-score   support\n",
      "\n",
      "very_negative       0.56      0.50      0.53      8592\n",
      "     negative       0.72      0.79      0.75     23569\n",
      "      neutral       0.55      0.52      0.53     10023\n",
      "     positive       0.47      0.38      0.42      2252\n",
      "very_positive       0.52      0.45      0.49      3053\n",
      "\n",
      "     accuracy                           0.64     47489\n",
      "    macro avg       0.56      0.53      0.54     47489\n",
      " weighted avg       0.63      0.64      0.63     47489\n",
      "\n"
     ]
    }
   ],
   "source": [
    "# RESULTS FOR BINARY CLASSIFICATION\n",
    "# Logistic Regression model on BOW features\n",
    "lr_bow_predictions = train_predict_model(classifier=rf, \n",
    "                                         train_features=cv_train_features, train_labels=train_sentiments,\n",
    "                                         test_features=cv_test_features, test_labels=test_sentiments)\n",
    "display_model_performance_metrics(true_labels=test_sentiments, predicted_labels=lr_bow_predictions,\n",
    "                                  target_names=['very_negative', 'negative', 'neutral', 'positive', 'very_positive'])"
   ]
  },
  {
   "cell_type": "code",
   "execution_count": 291,
   "metadata": {},
   "outputs": [
    {
     "name": "stdout",
     "output_type": "stream",
     "text": [
      "Logistic Regression:\n",
      "Model Performance metrics:\n",
      "------------------------------\n",
      "Accuracy:  83.22% \n",
      "Precision: 83.10% \n",
      "Recall:    83.22% \n",
      "F1 Score:  82.92% \n",
      "\n",
      "Model Classification report:\n",
      "------------------------------\n",
      "              precision    recall  f1-score   support\n",
      "\n",
      "    negative       0.84      0.91      0.87     23379\n",
      "    positive       0.82      0.70      0.76     13621\n",
      "\n",
      "    accuracy                           0.83     37000\n",
      "   macro avg       0.83      0.81      0.81     37000\n",
      "weighted avg       0.83      0.83      0.83     37000\n",
      "\n",
      "------------------------------------------------------------\n",
      "\n",
      "SVM results with TF-IDF:\n",
      "Model Performance metrics:\n",
      "------------------------------\n",
      "Accuracy:  73.40% \n",
      "Precision: 77.01% \n",
      "Recall:    73.40% \n",
      "F1 Score:  69.41% \n",
      "\n",
      "Model Classification report:\n",
      "------------------------------\n",
      "              precision    recall  f1-score   support\n",
      "\n",
      "    negative       0.71      0.97      0.82     23379\n",
      "    positive       0.87      0.33      0.47     13621\n",
      "\n",
      "    accuracy                           0.73     37000\n",
      "   macro avg       0.79      0.65      0.65     37000\n",
      "weighted avg       0.77      0.73      0.69     37000\n",
      "\n"
     ]
    }
   ],
   "source": [
    "svm_bow_predictions = train_predict_model(classifier=lr, \n",
    "                                          train_features=cv_train_features[:-37000], train_labels=train_sentiments[:-37000],\n",
    "                                          test_features=cv_test_features[-37000:], test_labels=test_sentiments[-37000:])\n",
    "print('SVM results with Bow:')\n",
    "display_model_performance_metrics(true_labels=test_sentiments[-37000:], predicted_labels=svm_bow_predictions,\n",
    "                                 target_names=['negative', 'positive'])\n",
    "\n",
    "\n",
    "svm_tfidf_predictions = train_predict_model(classifier=svm, \n",
    "                                            train_features=tv_train_features[:-37000], train_labels=train_sentiments[:-37000],\n",
    "                                            test_features=tv_test_features[-37000:], test_labels=test_sentiments[-37000:])\n",
    "print('-'*60)\n",
    "print('\\nSVM results with TF-IDF:')\n",
    "display_model_performance_metrics(true_labels=test_sentiments[-37000:], predicted_labels=svm_tfidf_predictions,\n",
    "                                  target_names=['negative', 'positive'])"
   ]
  },
  {
   "cell_type": "code",
   "execution_count": 286,
   "metadata": {},
   "outputs": [
    {
     "name": "stdout",
     "output_type": "stream",
     "text": [
      "SVM results with Bow:\n",
      "Model Performance metrics:\n",
      "------------------------------\n",
      "Accuracy:  80.56% \n",
      "Precision: 81.36% \n",
      "Recall:    80.56% \n",
      "F1 Score:  79.47% \n",
      "\n",
      "Model Classification report:\n",
      "------------------------------\n",
      "              precision    recall  f1-score   support\n",
      "\n",
      "    negative       0.79      0.94      0.86     30021\n",
      "    positive       0.85      0.57      0.68     17468\n",
      "\n",
      "    accuracy                           0.81     47489\n",
      "   macro avg       0.82      0.76      0.77     47489\n",
      "weighted avg       0.81      0.81      0.79     47489\n",
      "\n",
      "------------------------------------------------------------\n",
      "\n",
      "SVM results with TF-IDF:\n",
      "Model Performance metrics:\n",
      "------------------------------\n",
      "Accuracy:  73.44% \n",
      "Precision: 77.15% \n",
      "Recall:    73.44% \n",
      "F1 Score:  69.43% \n",
      "\n",
      "Model Classification report:\n",
      "------------------------------\n",
      "              precision    recall  f1-score   support\n",
      "\n",
      "    negative       0.71      0.97      0.82     30021\n",
      "    positive       0.87      0.33      0.47     17468\n",
      "\n",
      "    accuracy                           0.73     47489\n",
      "   macro avg       0.79      0.65      0.65     47489\n",
      "weighted avg       0.77      0.73      0.69     47489\n",
      "\n"
     ]
    }
   ],
   "source": [
    "svm_bow_predictions = train_predict_model(classifier=svm, \n",
    "                                          train_features=cv_train_features, train_labels=train_sentiments,\n",
    "                                          test_features=cv_test_features, test_labels=test_sentiments)\n",
    "print('SVM results with Bow:')\n",
    "display_model_performance_metrics(true_labels=test_sentiments, predicted_labels=svm_bow_predictions,\n",
    "                                 target_names=['negative', 'positive'])\n",
    "\n",
    "\n",
    "svm_tfidf_predictions = train_predict_model(classifier=svm, \n",
    "                                            train_features=tv_train_features, train_labels=train_sentiments,\n",
    "                                            test_features=tv_test_features, test_labels=test_sentiments)\n",
    "print('-'*60)\n",
    "print('\\nSVM results with TF-IDF:')\n",
    "display_model_performance_metrics(true_labels=test_sentiments, predicted_labels=svm_tfidf_predictions,\n",
    "                                  target_names=['negative', 'positive'])"
   ]
  },
  {
   "cell_type": "code",
   "execution_count": null,
   "metadata": {},
   "outputs": [],
   "source": [
    "# Logistic Regression model on all classes \n",
    "\n",
    "lr_bow_predictions = train_predict_model(classifier=lr, \n",
    "                                         train_features=cv_train_features, train_labels=train_sentiments,\n",
    "                                         test_features=cv_test_features, test_labels=test_sentiments)\n",
    "display_model_performance_metrics(true_labels=test_sentiments, predicted_labels=lr_bow_predictions,\n",
    "                                  target_names=['very_negative', 'negative', 'neutral' 'positive', 'very_positive'])"
   ]
  },
  {
   "cell_type": "code",
   "execution_count": null,
   "metadata": {},
   "outputs": [],
   "source": []
  }
 ],
 "metadata": {
  "kernelspec": {
   "display_name": "Python 3",
   "language": "python",
   "name": "python3"
  },
  "language_info": {
   "codemirror_mode": {
    "name": "ipython",
    "version": 3
   },
   "file_extension": ".py",
   "mimetype": "text/x-python",
   "name": "python",
   "nbconvert_exporter": "python",
   "pygments_lexer": "ipython3",
   "version": "3.8.3"
  }
 },
 "nbformat": 4,
 "nbformat_minor": 4
}
